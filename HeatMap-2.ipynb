{
 "cells": [
  {
   "cell_type": "code",
   "execution_count": null,
   "id": "6280af4e",
   "metadata": {},
   "outputs": [],
   "source": [
    "def f(C):\n",
    "    #Calculating the number of games repeated among the same players irrespective of the color they chosen\n",
    "    games_repeated = df.groupby(['White','Black'])['IndexC'].count().loc[lambda x:x>C]\n",
    "    #Unstacking the above series and filling the empty with Null Values\n",
    "    games_repeated = games_repeated.unstack(fill_value=0)\n",
    "    \n",
    "    #making a symmetric Matrix\n",
    "    nrepeated = games_repeated + games_repeated.transpose()\n",
    "    \n",
    "    #Creating a mask. i.e. an array with same size and type filled with zeros\n",
    "    z_arr = np.zeros_like(nrepeated)\n",
    "    z_arr[np.triu_indices_from(z_arr)] = True\n",
    "    \n",
    "    #Eliminating extra column and row which occurs in the visualization\n",
    "    z_arr = z_arr[1:, :-1]\n",
    "    corr = nrepeated.iloc[1:,:-1].copy()\n",
    "    return corr,z_arr\n",
    "    \n",
    "def plotting(C = 80):\n",
    "    z,z_arr = f(C)\n",
    "    with sns.axes_style(\"whitegrid\"):\n",
    "        #Plotting Heat Map\n",
    "        fi, a = plt.subplots(figsize=(7,5))\n",
    "        a = sns.heatmap(z.fillna(0), mask=z_arr, annot = True, cmap = 'Blues',cbar_kws={\"shrink\": .7}, fmt='g')\n",
    "\n",
    "interactive_plot = interactive(plotting,C=(80,100,1))\n",
    "interactive_plot"
   ]
  }
 ],
 "metadata": {
  "kernelspec": {
   "display_name": "Python 3",
   "language": "python",
   "name": "python3"
  },
  "language_info": {
   "codemirror_mode": {
    "name": "ipython",
    "version": 3
   },
   "file_extension": ".py",
   "mimetype": "text/x-python",
   "name": "python",
   "nbconvert_exporter": "python",
   "pygments_lexer": "ipython3",
   "version": "3.8.8"
  }
 },
 "nbformat": 4,
 "nbformat_minor": 5
}
