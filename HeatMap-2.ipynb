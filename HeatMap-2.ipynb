def f(C):
    #Calculating the number of games repeated among the same players irrespective of the color they chosen
    games_repeated = df.groupby(['White','Black'])['IndexC'].count().loc[lambda x:x>C]
    #Unstacking the above series and filling the empty with Null Values
    games_repeated = games_repeated.unstack(fill_value=0)
    
    #making a symmetric Matrix
    nrepeated = games_repeated + games_repeated.transpose()
    
    #Creating a mask. i.e. an array with same size and type filled with zeros
    z_arr = np.zeros_like(nrepeated)
    z_arr[np.triu_indices_from(z_arr)] = True
    
    #Eliminating extra column and row which occurs in the visualization
    z_arr = z_arr[1:, :-1]
    corr = nrepeated.iloc[1:,:-1].copy()
    return corr,z_arr
    
def plotting(C = 80):
    z,z_arr = f(C)
    with sns.axes_style("whitegrid"):
        #Plotting Heat Map
        fi, a = plt.subplots(figsize=(7,5))
        a = sns.heatmap(z.fillna(0), mask=z_arr, annot = True, cmap = 'Blues',cbar_kws={"shrink": .7}, fmt='g')

interactive_plot = interactive(plotting,C=(80,100,1))
interactive_plot