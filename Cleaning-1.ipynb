{
 "cells": [
  {
   "cell_type": "code",
   "execution_count": 1,
   "id": "43f321cd",
   "metadata": {},
   "outputs": [],
   "source": [
    "#Importing Libraries for cleaning\n",
    "import pandas as pd\n",
    "import numpy as np\n",
    "\n",
    "#Importing Libraries for visualization\n",
    "import seaborn as sns \n",
    "import matplotlib.pyplot as plt\n",
    "from ipywidgets import interactive\n",
    "\n",
    "#Reading chess_games.cvs dataset\n",
    "df = pd.read_csv('chess_games.csv')\n",
    "\n",
    "#Dropping Columns\n",
    "df = df.drop(columns=['UTCTime', 'WhiteRatingDiff', 'BlackRatingDiff', 'ECO', 'Opening', 'TimeControl', 'UTCDate', 'AN'])\n",
    "\n",
    "#Filtering Players with Elo less than 2000\n",
    "df = df[(df['WhiteElo'] >= 2000) | (df['BlackElo'] >= 2000)]\n",
    "\n",
    "#Checking for null values\n",
    "df.isnull().value_counts()\n",
    "\n",
    "#Checking unique values in Event\n",
    "df['Event'].unique()\n",
    "\n",
    "#Cleaning Event Column\n",
    "df['Event'] = df['Event'].str.replace('tournament', '')\n",
    "df['Event'] = df['Event'].str.replace(' ', '')\n",
    "\n",
    "#Checking unique values in Result Column\n",
    "df['Result'].unique()\n",
    "\n",
    "#Checking the value count of each value in Result Column\n",
    "df['Result'].value_counts()\n",
    "\n",
    "#Replacing the values for better understaing and visualization.\n",
    "df[\"Result\"].replace({\"1-0\": \"White\", \"0-1\": \"Black\",\"1/2-1/2\": \"Draw\",\"*\": \"Abandoned\"}, inplace=True)\n",
    "\n",
    "#Checking unique values in Termination Column\n",
    "df['Termination'].unique()\n",
    "\n",
    "#Adding Index Column\n",
    "df['IndexC'] = range(1, len(df) + 1)\n",
    "\n",
    "#Storing Cleaned Data\n",
    "df.to_csv('CleanedChess.csv')"
   ]
  },
  {
   "cell_type": "code",
   "execution_count": 2,
   "id": "d1cbde1a",
   "metadata": {},
   "outputs": [
    {
     "data": {
      "application/vnd.jupyter.widget-view+json": {
       "model_id": "c9bf4415f1a0481396e4f0f08797ff39",
       "version_major": 2,
       "version_minor": 0
      },
      "text/plain": [
       "interactive(children=(IntSlider(value=80, description='C', min=80), Output()), _dom_classes=('widget-interact'…"
      ]
     },
     "metadata": {},
     "output_type": "display_data"
    }
   ],
   "source": [
    "def f(C):\n",
    "    #Calculating the number of games repeated among the same players irrespective of the color they chosen\n",
    "    games_repeated = df.groupby(['White','Black'])['IndexC'].count().loc[lambda x:x>C]\n",
    "    #Unstacking the above series and filling the empty with Null Values\n",
    "    games_repeated = games_repeated.unstack(fill_value=0)\n",
    "    \n",
    "    #making a symmetric Matrix\n",
    "    nrepeated = games_repeated + games_repeated.transpose()\n",
    "    \n",
    "    #Creating a mask. i.e. an array with same size and type filled with zeros\n",
    "    z_arr = np.zeros_like(nrepeated)\n",
    "    z_arr[np.triu_indices_from(z_arr)] = True\n",
    "    \n",
    "    #Eliminating extra column and row which occurs in the visualization\n",
    "    z_arr = z_arr[1:, :-1]\n",
    "    corr = nrepeated.iloc[1:,:-1].copy()\n",
    "    return corr,z_arr\n",
    "    \n",
    "def plotting(C = 80):\n",
    "    z,z_arr = f(C)\n",
    "    with sns.axes_style(\"whitegrid\"):\n",
    "        #Plotting Heat Map\n",
    "        fi, a = plt.subplots(figsize=(7,5))\n",
    "        a = sns.heatmap(z.fillna(0), mask=z_arr, annot = True, cmap = 'Blues',cbar_kws={\"shrink\": .7}, fmt='g')\n",
    "\n",
    "interactive_plot = interactive(plotting,C=(80,100,1))\n",
    "interactive_plot"
   ]
  },
  {
   "cell_type": "code",
   "execution_count": 3,
   "id": "d5017333",
   "metadata": {},
   "outputs": [
    {
     "data": {
      "image/png": "[encoded data removed]",
      "text/plain": [
       "<Figure size 432x288 with 1 Axes>"
      ]
     },
     "metadata": {},
     "output_type": "display_data"
    }
   ],
   "source": [
    "#Creating Custom Ranges\n",
    "custom_ranges = np.arange(2000, 3000, 100)\n",
    "\n",
    "#Creating Range Columns\n",
    "df['WhiteElo_Cut'] = pd.cut(df['WhiteElo'], custom_ranges)\n",
    "df['BlackElo_Cut'] = pd.cut(df['BlackElo'], custom_ranges)\n",
    "\n",
    "#Calculating Total Games lost by White and Black\n",
    "games_total_w = df[(df['Result'] == 'Black')&(df['Termination']!='Rules infraction')&(df['Termination']!='Abadoned')&(df['Event']=='Blitz')].groupby(by ='WhiteElo_Cut')['IndexC'].count()\n",
    "games_total_b = df[(df['Result'] == 'White')&(df['Termination']!='Rules infraction')&(df['Termination']!='Abadoned')&(df['Event']=='Blitz')].groupby(by ='BlackElo_Cut')['IndexC'].count()\n",
    "\n",
    "\n",
    "#Calculating games lost by White and Black players in Blitz Tournament by Normal Termination\n",
    "Normal_w = df[(df['Termination']=='Normal')&(df['Result'] == 'Black')&(df['Event']=='Blitz')].groupby(by ='WhiteElo_Cut')['IndexC'].count()\n",
    "Normal_b = df[(df['Termination']=='Normal')&(df['Result'] == 'White')&(df['Event']=='Blitz')].groupby(by ='BlackElo_Cut')['IndexC'].count()\n",
    "\n",
    "#Calculating games lost by White and Black players in Blitz Tournament by Time forfeit Termination\n",
    "TF_w = df[(df['Termination']=='Time forfeit')&(df['Result'] == 'Black')&(df['Event']=='Blitz')].groupby(by ='WhiteElo_Cut')['IndexC'].count()\n",
    "TF_b = df[(df['Termination']=='Time forfeit')&(df['Result'] == 'White')&(df['Event']=='Blitz')].groupby(by ='BlackElo_Cut')['IndexC'].count()\n",
    "\n",
    "#Calculating percentages\n",
    "Normal_games = (Normal_w + Normal_b)/(games_total_w + games_total_b)*100\n",
    "TF_games = (TF_w + TF_b)/(games_total_w + games_total_b)*100\n",
    "\n",
    "#Creating a new data frame\n",
    "group = zip(Normal_games.values,TF_games.values,np.array(TF_games.index))\n",
    "losses = pd.DataFrame(data = list(group), columns = ['Normal','Time Forfeit','Elo Loser'])\n",
    "\n",
    "#Setting Index\n",
    "losses.set_index('Elo Loser', inplace=True)\n",
    "\n",
    "#Creating Bar Graph\n",
    "sns.set_theme(style=\"white\", palette=None)\n",
    "losses.plot(kind='bar', stacked=True)\n",
    "plt.title('Terminations of Blitz Games', fontsize=20)\n",
    "plt.xlabel('Range of losers based on Elo', fontsize=14)\n",
    "plt.ylabel('Percentage', fontsize=14)\n",
    "plt.savefig('Bar_grid.png',bbox_inches='tight')\n",
    "plt.show()"
   ]
  },
  {
   "cell_type": "code",
   "execution_count": null,
   "id": "e0ca3d0c",
   "metadata": {},
   "outputs": [],
   "source": []
  }
 ],
 "metadata": {
  "kernelspec": {
   "display_name": "Python 3",
   "language": "python",
   "name": "python3"
  },
  "language_info": {
   "codemirror_mode": {
    "name": "ipython",
    "version": 3
   },
   "file_extension": ".py",
   "mimetype": "text/x-python",
   "name": "python",
   "nbconvert_exporter": "python",
   "pygments_lexer": "ipython3",
   "version": "3.8.8"
  }
 },
 "nbformat": 4,
 "nbformat_minor": 5
}
