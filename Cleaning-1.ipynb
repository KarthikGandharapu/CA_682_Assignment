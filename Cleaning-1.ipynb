#Importing Libraries for cleaning
import pandas as pd
import numpy as np

#Importing Libraries for visualization
import seaborn as sns 
import matplotlib.pyplot as plt
from ipywidgets import interactive

#Reading chess_games.cvs dataset
df = pd.read_csv('chess_games.csv')

#Dropping Columns
df = df.drop(columns=['UTCTime', 'WhiteRatingDiff', 'BlackRatingDiff', 'ECO', 'Opening', 'TimeControl', 'UTCDate', 'AN'])

#Filtering Players with Elo less than 2000
df = df[(df['WhiteElo'] >= 2000) | (df['BlackElo'] >= 2000)]

#Checking for null values
df.isnull().value_counts()

#Checking unique values in Event
df['Event'].unique()

#Cleaning Event Column
df['Event'] = df['Event'].str.replace('tournament', '')
df['Event'] = df['Event'].str.replace(' ', '')

#Checking unique values in Result Column
df['Result'].unique()

#Checking the value count of each value in Result Column
df['Result'].value_counts()

#Replacing the values for better understaing and visualization.
df["Result"].replace({"1-0": "White", "0-1": "Black","1/2-1/2": "Draw","*": "Abandoned"}, inplace=True)

#Checking unique values in Termination Column
df['Termination'].unique()

#Adding Index Column
df['IndexC'] = range(1, len(df) + 1)

#Storing Cleaned Data
df.to_csv('CleanedChess.csv')