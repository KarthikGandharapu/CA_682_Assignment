#Creating Custom Ranges
custom_ranges = np.arange(2000, 3000, 100)

#Creating Range Columns
df['WhiteElo_Cut'] = pd.cut(df['WhiteElo'], custom_ranges)
df['BlackElo_Cut'] = pd.cut(df['BlackElo'], custom_ranges)

#Calculating Total Games lost by White and Black
games_total_w = df[(df['Result'] == 'Black')&(df['Termination']!='Rules infraction')&(df['Termination']!='Abadoned')&(df['Event']=='Blitz')].groupby(by ='WhiteElo_Cut')['IndexC'].count()
games_total_b = df[(df['Result'] == 'White')&(df['Termination']!='Rules infraction')&(df['Termination']!='Abadoned')&(df['Event']=='Blitz')].groupby(by ='BlackElo_Cut')['IndexC'].count()


#Calculating games lost by White and Black players in Blitz Tournament by Normal Termination
Normal_w = df[(df['Termination']=='Normal')&(df['Result'] == 'Black')&(df['Event']=='Blitz')].groupby(by ='WhiteElo_Cut')['IndexC'].count()
Normal_b = df[(df['Termination']=='Normal')&(df['Result'] == 'White')&(df['Event']=='Blitz')].groupby(by ='BlackElo_Cut')['IndexC'].count()

#Calculating games lost by White and Black players in Blitz Tournament by Time forfeit Termination
TF_w = df[(df['Termination']=='Time forfeit')&(df['Result'] == 'Black')&(df['Event']=='Blitz')].groupby(by ='WhiteElo_Cut')['IndexC'].count()
TF_b = df[(df['Termination']=='Time forfeit')&(df['Result'] == 'White')&(df['Event']=='Blitz')].groupby(by ='BlackElo_Cut')['IndexC'].count()

#Calculating percentages
Normal_games = (Normal_w + Normal_b)/(games_total_w + games_total_b)*100
TF_games = (TF_w + TF_b)/(games_total_w + games_total_b)*100

#Creating a new data frame
group = zip(Normal_games.values,TF_games.values,np.array(TF_games.index))
losses = pd.DataFrame(data = list(group), columns = ['Normal','Time Forfeit','Elo Loser'])

#Setting Index
losses.set_index('Elo Loser', inplace=True)

#Creating Bar Graph
sns.set_theme(style="white", palette=None)
losses.plot(kind='bar', stacked=True)
plt.title('Terminations of Blitz Games', fontsize=20)
plt.xlabel('Range of losers based on Elo', fontsize=14)
plt.ylabel('Percentage', fontsize=14)
plt.savefig('Termination of Blitz games without grid.png',bbox_inches='tight')
plt.show()