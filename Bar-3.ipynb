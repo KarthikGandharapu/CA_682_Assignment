{
 "cells": [
  {
   "cell_type": "code",
   "execution_count": null,
   "id": "408f674c",
   "metadata": {},
   "outputs": [],
   "source": [
    "#Creating Custom Ranges\n",
    "custom_ranges = np.arange(2000, 3000, 100)\n",
    "\n",
    "#Creating Range Columns\n",
    "df['WhiteElo_Cut'] = pd.cut(df['WhiteElo'], custom_ranges)\n",
    "df['BlackElo_Cut'] = pd.cut(df['BlackElo'], custom_ranges)\n",
    "\n",
    "#Calculating Total Games lost by White and Black\n",
    "games_total_w = df[(df['Result'] == 'Black')&(df['Termination']!='Rules infraction')&(df['Termination']!='Abadoned')&(df['Event']=='Blitz')].groupby(by ='WhiteElo_Cut')['IndexC'].count()\n",
    "games_total_b = df[(df['Result'] == 'White')&(df['Termination']!='Rules infraction')&(df['Termination']!='Abadoned')&(df['Event']=='Blitz')].groupby(by ='BlackElo_Cut')['IndexC'].count()\n",
    "\n",
    "\n",
    "#Calculating games lost by White and Black players in Blitz Tournament by Normal Termination\n",
    "Normal_w = df[(df['Termination']=='Normal')&(df['Result'] == 'Black')&(df['Event']=='Blitz')].groupby(by ='WhiteElo_Cut')['IndexC'].count()\n",
    "Normal_b = df[(df['Termination']=='Normal')&(df['Result'] == 'White')&(df['Event']=='Blitz')].groupby(by ='BlackElo_Cut')['IndexC'].count()\n",
    "\n",
    "#Calculating games lost by White and Black players in Blitz Tournament by Time forfeit Termination\n",
    "TF_w = df[(df['Termination']=='Time forfeit')&(df['Result'] == 'Black')&(df['Event']=='Blitz')].groupby(by ='WhiteElo_Cut')['IndexC'].count()\n",
    "TF_b = df[(df['Termination']=='Time forfeit')&(df['Result'] == 'White')&(df['Event']=='Blitz')].groupby(by ='BlackElo_Cut')['IndexC'].count()\n",
    "\n",
    "#Calculating percentages\n",
    "Normal_games = (Normal_w + Normal_b)/(games_total_w + games_total_b)*100\n",
    "TF_games = (TF_w + TF_b)/(games_total_w + games_total_b)*100\n",
    "\n",
    "#Creating a new data frame\n",
    "group = zip(Normal_games.values,TF_games.values,np.array(TF_games.index))\n",
    "losses = pd.DataFrame(data = list(group), columns = ['Normal','Time Forfeit','Elo Loser'])\n",
    "\n",
    "#Setting Index\n",
    "losses.set_index('Elo Loser', inplace=True)\n",
    "\n",
    "#Creating Bar Graph\n",
    "sns.set_theme(style=\"white\", palette=None)\n",
    "losses.plot(kind='bar', stacked=True)\n",
    "plt.title('Terminations of Blitz Games', fontsize=20)\n",
    "plt.xlabel('Range of losers based on Elo', fontsize=14)\n",
    "plt.ylabel('Percentage', fontsize=14)\n",
    "plt.grid(axis = 'y')\n",
    "plt.savefig('Bar_grid.png',bbox_inches='tight')\n",
    "plt.show()"
   ]
  }
 ],
 "metadata": {
  "kernelspec": {
   "display_name": "Python 3",
   "language": "python",
   "name": "python3"
  },
  "language_info": {
   "codemirror_mode": {
    "name": "ipython",
    "version": 3
   },
   "file_extension": ".py",
   "mimetype": "text/x-python",
   "name": "python",
   "nbconvert_exporter": "python",
   "pygments_lexer": "ipython3",
   "version": "3.8.8"
  }
 },
 "nbformat": 4,
 "nbformat_minor": 5
}
